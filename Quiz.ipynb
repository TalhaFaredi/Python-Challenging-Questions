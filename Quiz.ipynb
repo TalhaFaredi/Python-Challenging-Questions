{
 "cells": [
  {
   "cell_type": "markdown",
   "metadata": {},
   "source": [
    "### Given a tuple of strings containing names in the format \"Lastname,Firstname,\" write a program to create a new list of strings where each name is in the format \"Firstname Lastname.\" Then, print the sorted list of names in alphabetical order. Use loops, string manipulation, and a tuple.\n"
   ]
  },
  {
   "cell_type": "code",
   "execution_count": null,
   "metadata": {},
   "outputs": [],
   "source": []
  },
  {
   "cell_type": "code",
   "execution_count": 2,
   "metadata": {},
   "outputs": [
    {
     "name": "stdout",
     "output_type": "stream",
     "text": [
      "Printing the Reversed List of strings:\n",
      "\n",
      "['Talha', 'fareedi', 'Akram', 'Amaad', 'Aiza', 'ijaz']\n",
      "Printing Sorted List:\n",
      "\n",
      "['Aiza', 'Akram', 'Amaad', 'Talha', 'fareedi', 'ijaz']\n"
     ]
    }
   ],
   "source": [
    "old = [(\"fareedi\", \"Talha\"), (\"Amaad\", \"Akram\"), (\"ijaz\", \"Aiza\")]\n",
    "new = []\n",
    "\n",
    "for name in old:\n",
    "    reverse_tuple = tuple(reversed(name))\n",
    "    new.extend(reverse_tuple)\n",
    "\n",
    "print(\"Printing the Reversed List of strings:\\n\")\n",
    "print(new)\n",
    "\n",
    "sorted_new = sorted(new)\n",
    "print(\"Printing Sorted List:\\n\")\n",
    "print(sorted_new)"
   ]
  },
  {
   "cell_type": "markdown",
   "metadata": {},
   "source": [
    "###  You have a dictionary representing the scores of students in a class. Each student's name is a key, and their score (out of 100) is the corresponding value. Write a Python program that calculates and prints the average score of the class. Use a loop to iterate through the dictionary valu"
   ]
  },
  {
   "cell_type": "code",
   "execution_count": 27,
   "metadata": {},
   "outputs": [],
   "source": [
    "dic = {\n",
    "    \"Math_class\": {\n",
    "        \"Ahmad\": 80,\n",
    "        \"Aiza\": 70,\n",
    "        \"Talha\": 75\n",
    "    },\n",
    "    \"English_class\": {\n",
    "        \"Ahmad\": 80,\n",
    "        \"Aiza\": 70,\n",
    "        \"Talha\": 75\n",
    "    },\n",
    "    \"Physics_class\": {\n",
    "        \"Ahmad\": 80,\n",
    "        \"Aiza\": 70,\n",
    "        \"Talha\": 75\n",
    "    }\n",
    "}"
   ]
  },
  {
   "cell_type": "code",
   "execution_count": 28,
   "metadata": {},
   "outputs": [
    {
     "name": "stdout",
     "output_type": "stream",
     "text": [
      "The average grade for Math_class is: 75.0\n",
      "The average grade for English_class is: 75.0\n",
      "The average grade for Physics_class is: 75.0\n"
     ]
    }
   ],
   "source": [
    "for class_name, class_grades in dic.items():\n",
    "    grades = class_grades.values()\n",
    "    average = sum(grades) / len(grades)\n",
    "    print(f\"The average grade for {class_name} is: {average}\")\n",
    "\n"
   ]
  },
  {
   "cell_type": "code",
   "execution_count": 32,
   "metadata": {},
   "outputs": [
    {
     "name": "stdout",
     "output_type": "stream",
     "text": [
      "Class: Math_class\n",
      "Grades:  dict_values([80, 70, 75])\n",
      "\n",
      "Class: English_class\n",
      "Grades:  dict_values([85, 75, 80])\n",
      "\n",
      "Class: Physics_class\n",
      "Grades:  dict_values([90, 80, 85])\n",
      "\n"
     ]
    }
   ],
   "source": [
    "dic = {\n",
    "    \"Math_class\": {\n",
    "        \"Ahmad\": 80,\n",
    "        \"Aiza\": 70,\n",
    "        \"Talha\": 75\n",
    "    },\n",
    "    \"English_class\": {\n",
    "        \"Ahmad\": 85,\n",
    "        \"Aiza\": 75,\n",
    "        \"Talha\": 80\n",
    "    },\n",
    "    \"Physics_class\": {\n",
    "        \"Ahmad\": 90,\n",
    "        \"Aiza\": 80,\n",
    "        \"Talha\": 85\n",
    "    }\n",
    "}\n",
    "\n",
    "for class_name, class_grades in dic.items():\n",
    "    print(f\"Class: {class_name}\")\n",
    "    print(\"Grades: \", class_grades.values())\n",
    "    print()"
   ]
  },
  {
   "cell_type": "markdown",
   "metadata": {},
   "source": [
    "## Write a Python program that takes a sentence as input and checks if it contains the word \"Python.\" If it does, print \"Python found!\" Otherwise, print \"Python not found.\" Use a loop to split the sentence into wordsand conditional statements to check for the presence of \"Python\" in each word.."
   ]
  },
  {
   "cell_type": "code",
   "execution_count": 3,
   "metadata": {},
   "outputs": [
    {
     "name": "stdout",
     "output_type": "stream",
     "text": [
      "yep A python word found \n",
      "No python word found\n",
      "No python word found\n",
      "No python word found\n",
      "No python word found\n",
      "No python word found\n"
     ]
    }
   ],
   "source": [
    "\n",
    "a = input(\"Enter desire Value \")\n",
    "\n",
    "for i in a.split():\n",
    "    if i.lower() == 'python':\n",
    "     print(\"yep A python word found \")\n",
    "    else:\n",
    "       print(\"No python word found\") "
   ]
  },
  {
   "cell_type": "code",
   "execution_count": 2,
   "metadata": {},
   "outputs": [
    {
     "name": "stdout",
     "output_type": "stream",
     "text": [
      "Ahmad\n"
     ]
    }
   ],
   "source": [
    "input_text = input(\"Input value \")\n",
    "print(input_text)"
   ]
  },
  {
   "cell_type": "code",
   "execution_count": null,
   "metadata": {},
   "outputs": [],
   "source": []
  },
  {
   "cell_type": "code",
   "execution_count": null,
   "metadata": {},
   "outputs": [],
   "source": []
  },
  {
   "cell_type": "code",
   "execution_count": null,
   "metadata": {},
   "outputs": [],
   "source": []
  },
  {
   "cell_type": "code",
   "execution_count": null,
   "metadata": {},
   "outputs": [],
   "source": []
  }
 ],
 "metadata": {
  "kernelspec": {
   "display_name": "base",
   "language": "python",
   "name": "python3"
  },
  "language_info": {
   "codemirror_mode": {
    "name": "ipython",
    "version": 3
   },
   "file_extension": ".py",
   "mimetype": "text/x-python",
   "name": "python",
   "nbconvert_exporter": "python",
   "pygments_lexer": "ipython3",
   "version": "3.10.9"
  },
  "orig_nbformat": 4
 },
 "nbformat": 4,
 "nbformat_minor": 2
}
